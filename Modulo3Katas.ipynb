{
 "cells": [
  {
   "cell_type": "markdown",
   "metadata": {},
   "source": [
    "## Asteroide se acerca demasiado rápido a la Tierra"
   ]
  },
  {
   "cell_type": "code",
   "execution_count": 1,
   "metadata": {},
   "outputs": [
    {
     "name": "stdout",
     "output_type": "stream",
     "text": [
      "Un asteroide se acerca demasiado rápido a la Tierra\n"
     ]
    }
   ],
   "source": [
    "# Añadir el código necesario para crear una variable que guarde la velocidad del asteroide.\n",
    "# Escribe una expresión de prueba para calcular si necesita una advertencia.\n",
    "# Agregue las instrucciones que se ejecutarán si la expresión de prueba es true o false.\n",
    "\n",
    "velAsteroide = 49\n",
    "\n",
    "if velAsteroide > 25:\n",
    "    print(\"Un asteroide se acerca demasiado rápido a la Tierra\")\n",
    "else:\n",
    "    print(\"Nada que reportar\")"
   ]
  },
  {
   "cell_type": "code",
   "execution_count": 2,
   "metadata": {},
   "outputs": [
    {
     "name": "stdout",
     "output_type": "stream",
     "text": [
      "No hay nada que ver :(\n"
     ]
    }
   ],
   "source": [
    "# Agrega el código para crear una variable para un asteroide que viaja a 19 km/s\n",
    "# Escribe varias expresiones de prueba para determinar si puedes ver el rayo de luz desde la tierra\n",
    "# Agrega las instrucciones que se ejecutarán si las expresiones de prueba son True o False\n",
    "\n",
    "velAsteroide = 19\n",
    "\n",
    "if velAsteroide > 20:\n",
    "    print(\"Ve al cielo y busca el asteroide\")\n",
    "elif velAsteroide == 20:\n",
    "    print(\"Ve al cielo y busca el asteroide\")\n",
    "else:\n",
    "    print(\"No hay nada que ver :(\")"
   ]
  },
  {
   "cell_type": "code",
   "execution_count": 3,
   "metadata": {},
   "outputs": [
    {
     "name": "stdout",
     "output_type": "stream",
     "text": [
      "Ve al cielo y busca el asteroide\n"
     ]
    }
   ],
   "source": [
    "# Agrega el código para crear nuevas variables para la velocidad y el tamaño del asteroide\n",
    "# Para probar el código, prueba con varias velocidades y tamaños\n",
    "# Escribe varias expresiones de prueba o combinaciones de expresiones de prueba para determinar qué mensaje se debe enviar a Tierra.\n",
    "\n",
    "velAsteroide = 25\n",
    "tamAsteroide = 30\n",
    "\n",
    "if velAsteroide > 25 and tamAsteroide > 25:\n",
    "    print('Un asteroide viene hacia la Tierra y puede causar mucho daño')\n",
    "elif velAsteroide >= 20:\n",
    "    print('Ve al cielo y busca el asteroide')\n",
    "elif tamAsteroide < 25:\n",
    "    print('No hay nada que ver :(')\n",
    "else:\n",
    "    print('No hay nada que ver :(')"
   ]
  }
 ],
 "metadata": {
  "interpreter": {
   "hash": "fc1571747e4c5589a9a20e749a00c4dd061a475a22784e376593a756307447f0"
  },
  "kernelspec": {
   "display_name": "Python 3.10.2 64-bit",
   "language": "python",
   "name": "python3"
  },
  "language_info": {
   "codemirror_mode": {
    "name": "ipython",
    "version": 3
   },
   "file_extension": ".py",
   "mimetype": "text/x-python",
   "name": "python",
   "nbconvert_exporter": "python",
   "pygments_lexer": "ipython3",
   "version": "3.10.2"
  },
  "orig_nbformat": 4
 },
 "nbformat": 4,
 "nbformat_minor": 2
}
